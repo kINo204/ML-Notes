{
 "cells": [
  {
   "cell_type": "code",
   "execution_count": 21,
   "id": "9a8b2e85",
   "metadata": {},
   "outputs": [
    {
     "name": "stdout",
     "output_type": "stream",
     "text": [
      "[ 3.8362771   6.52553763  8.52879416 10.5702561  12.41509435 13.8323742\n",
      " 16.60475381 19.42606796 20.83885037 22.61382237]\n"
     ]
    }
   ],
   "source": [
    "import numpy as np\n",
    "\n",
    "x = np.arange(1, 11)\n",
    "y = 2 * x + 3 + np.random.normal(size=x.shape) / 2\n",
    "print(y)"
   ]
  },
  {
   "cell_type": "code",
   "execution_count": 22,
   "id": "34a403a7",
   "metadata": {},
   "outputs": [],
   "source": [
    "def batch_generator(x, y, batch_size=4, shuffle=True):\n",
    "    idx = np.arange(len(x))\n",
    "    if shuffle:\n",
    "        np.random.shuffle(idx)\n",
    "    for start in range(0, len(x), batch_size):\n",
    "        end = start + batch_size\n",
    "        batch_idx = idx[start:end]\n",
    "        yield x[batch_idx], y[batch_idx]"
   ]
  },
  {
   "cell_type": "code",
   "execution_count": 23,
   "id": "d08a5992",
   "metadata": {},
   "outputs": [
    {
     "name": "stdout",
     "output_type": "stream",
     "text": [
      "[0 0 0 0 0 0 0 0 0 0]\n"
     ]
    }
   ],
   "source": [
    "k, b = 0, 0\n",
    "hypothesis = lambda x: k * x + b\n",
    "print(hypothesis(x))"
   ]
  },
  {
   "cell_type": "code",
   "execution_count": 24,
   "id": "6874f021",
   "metadata": {},
   "outputs": [
    {
     "name": "stdout",
     "output_type": "stream",
     "text": [
      "1092.9860316673048\n"
     ]
    }
   ],
   "source": [
    "loss = lambda x, y: (np.sum((hypothesis(x) - y) ** 2)) / 2\n",
    "grad_k = lambda x, y: np.sum((hypothesis(x) - y) * x)\n",
    "grad_b = lambda x, y: np.sum(hypothesis(x) - y)\n",
    "print(loss(x, y))"
   ]
  },
  {
   "cell_type": "code",
   "execution_count": 25,
   "id": "b83abf35",
   "metadata": {},
   "outputs": [
    {
     "name": "stdout",
     "output_type": "stream",
     "text": [
      "k=2.07998932464031, b=2.079241519725863, loss=0.682\n"
     ]
    }
   ],
   "source": [
    "learn_ratio = 0.002\n",
    "\n",
    "for i in range(10000):\n",
    "    bx, by = x, y\n",
    "    # for bx, by in batch_generator(x, y):\n",
    "    yh = hypothesis(bx)\n",
    "    k -= learn_ratio * grad_k(bx, by)\n",
    "    b -= learn_ratio * grad_b(bx, by)\n",
    "print(f\"k={k}, b={b}, loss={loss(x, y):.3}\")"
   ]
  }
 ],
 "metadata": {
  "kernelspec": {
   "display_name": "Python 3",
   "language": "python",
   "name": "python3"
  },
  "language_info": {
   "codemirror_mode": {
    "name": "ipython",
    "version": 3
   },
   "file_extension": ".py",
   "mimetype": "text/x-python",
   "name": "python",
   "nbconvert_exporter": "python",
   "pygments_lexer": "ipython3",
   "version": "3.12.10"
  }
 },
 "nbformat": 4,
 "nbformat_minor": 5
}
