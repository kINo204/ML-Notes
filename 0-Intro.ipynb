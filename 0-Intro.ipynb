{
 "cells": [
  {
   "cell_type": "markdown",
   "id": "7caa75a0",
   "metadata": {},
   "source": [
    "machine learning defiinition:\n",
    "do something while no explicitly programmed\n",
    "\n",
    "## ML Categories\n",
    "\n",
    "### Supervised Learning: find the mapping\n",
    "\n",
    "- regression\n",
    "- classification\n",
    "\n",
    "### Unsupervised Learning: fetch knowledge from data\n",
    "\n",
    "### Deep Learning\n",
    "\n",
    "### Reinforced Learning: learn from feecback"
   ]
  }
 ],
 "metadata": {
  "kernelspec": {
   "display_name": "Python 3",
   "language": "python",
   "name": "python3"
  },
  "language_info": {
   "name": "python",
   "version": "3.12.10"
  }
 },
 "nbformat": 4,
 "nbformat_minor": 5
}
