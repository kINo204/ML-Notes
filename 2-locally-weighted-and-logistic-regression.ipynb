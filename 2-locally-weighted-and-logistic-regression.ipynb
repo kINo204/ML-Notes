{
 "cells": [
  {
   "cell_type": "markdown",
   "id": "001ee7ac",
   "metadata": {},
   "source": [
    "## Locally Weighted Linear Regression"
   ]
  },
  {
   "cell_type": "markdown",
   "id": "15457a78",
   "metadata": {},
   "source": [
    "## Logistic Regression"
   ]
  },
  {
   "cell_type": "code",
   "execution_count": 4,
   "id": "6f45930a",
   "metadata": {},
   "outputs": [],
   "source": [
    "import numpy as np\n",
    "rng = np.random.default_rng()\n",
    "\n",
    "N = 100\n",
    "sigma = 2\n",
    "px = 5\n",
    "X = np.r_[(-px + sigma * rng.standard_normal(N)),\n",
    "        (px + sigma * rng.standard_normal(N))].reshape(-1 ,1)\n",
    "rng.shuffle(X)\n",
    "X = np.hstack( [X, np.ones((X.shape[0], 1))] )\n",
    "y = (rng.random((X.shape[0], 1)) - 0.5) * (2 * px - 6 * sigma) < X[:, 0].reshape(-1, 1)"
   ]
  },
  {
   "cell_type": "code",
   "execution_count": 5,
   "id": "d5238b05",
   "metadata": {},
   "outputs": [],
   "source": [
    "def sigmoid(z):\n",
    "    return 1 / (1 + np.exp(-z))\n",
    "\n",
    "def hypothesis(x, theta):\n",
    "    return sigmoid( x @ theta )\n",
    "\n",
    "def log_p_single(y, x, theta):\n",
    "    h = hypothesis(x, theta)\n",
    "    eps = 1e-10\n",
    "    h = np.clip(h, eps, 1 - eps)  # 限制 h 在 (eps, 1-eps) 之间\n",
    "    res = y * np.log(h) + (1 - y) * np.log(1 - h)\n",
    "    return res\n",
    "\n",
    "def log_likelihood(theta):\n",
    "    return np.sum( log_p_single( y, X, theta ), axis=0 )"
   ]
  },
  {
   "cell_type": "code",
   "execution_count": 6,
   "id": "4b4df9f8",
   "metadata": {},
   "outputs": [
    {
     "name": "stdout",
     "output_type": "stream",
     "text": [
      "decision division:  0.08954592813138362\n"
     ]
    }
   ],
   "source": [
    "def grad(theta):\n",
    "    h = hypothesis(X, theta)\n",
    "    return X.T @ (y - h)\n",
    "\n",
    "theta = np.zeros((2, 1))\n",
    "alpha = 0.002\n",
    "for i in range(10000):\n",
    "    theta += alpha * grad(theta)\n",
    "\n",
    "print(\"decision division: \", (-theta[1] / theta[0]).item())"
   ]
  }
 ],
 "metadata": {
  "kernelspec": {
   "display_name": "Python 3",
   "language": "python",
   "name": "python3"
  },
  "language_info": {
   "codemirror_mode": {
    "name": "ipython",
    "version": 3
   },
   "file_extension": ".py",
   "mimetype": "text/x-python",
   "name": "python",
   "nbconvert_exporter": "python",
   "pygments_lexer": "ipython3",
   "version": "3.12.10"
  }
 },
 "nbformat": 4,
 "nbformat_minor": 5
}
