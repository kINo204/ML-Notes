{
 "cells": [
  {
   "cell_type": "code",
   "execution_count": 81,
   "id": "68a140e4",
   "metadata": {},
   "outputs": [],
   "source": [
    "import numpy as np\n",
    "rng = np.random.default_rng()\n",
    "\n",
    "N = 100\n",
    "sigma = 2\n",
    "px, py = 5, 20\n",
    "X = np.r_[(px + sigma * rng.standard_normal(N)),\n",
    "        (py + sigma * rng.standard_normal(N))].reshape(-1 ,1)\n",
    "rng.shuffle(X)\n",
    "y = (rng.random((X.shape[0], 1)) * 2 - 1) * (py - px - 6 * sigma) / 2 + (px + py) / 2 \\\n",
    "        < X[:, 0].reshape(-1, 1)"
   ]
  },
  {
   "cell_type": "code",
   "execution_count": 82,
   "id": "a28f9b9e",
   "metadata": {},
   "outputs": [
    {
     "data": {
      "text/plain": [
       "np.float64(0.5)"
      ]
     },
     "execution_count": 82,
     "metadata": {},
     "output_type": "execute_result"
    }
   ],
   "source": [
    "h_phi = y.sum() / X.shape[0]\n",
    "h_phi"
   ]
  },
  {
   "cell_type": "code",
   "execution_count": 83,
   "id": "c77798e9",
   "metadata": {},
   "outputs": [
    {
     "data": {
      "text/plain": [
       "(array([4.99346098]), array([19.81003044]))"
      ]
     },
     "execution_count": 83,
     "metadata": {},
     "output_type": "execute_result"
    }
   ],
   "source": [
    "h_mu_0 = np.sum(X[np.logical_not(y.ravel())], axis=0) / np.sum(1 - y)\n",
    "h_mu_1 = np.sum(X[y.ravel()], axis=0) / np.sum(y)\n",
    "h_mu_0, h_mu_1"
   ]
  },
  {
   "cell_type": "code",
   "execution_count": 84,
   "id": "290409b9",
   "metadata": {},
   "outputs": [
    {
     "data": {
      "text/plain": [
       "np.float64(2.212960301890468)"
      ]
     },
     "execution_count": 84,
     "metadata": {},
     "output_type": "execute_result"
    }
   ],
   "source": [
    "M = np.ones(X.shape)\n",
    "M[np.logical_not(y.ravel())] = h_mu_0.T\n",
    "M[y.ravel()] = h_mu_1.T\n",
    "h_sigma = np.sum(np.diag((X - M) @ (X - M).T)) / X.shape[0]\n",
    "h_sigma"
   ]
  }
 ],
 "metadata": {
  "kernelspec": {
   "display_name": "Python 3",
   "language": "python",
   "name": "python3"
  },
  "language_info": {
   "codemirror_mode": {
    "name": "ipython",
    "version": 3
   },
   "file_extension": ".py",
   "mimetype": "text/x-python",
   "name": "python",
   "nbconvert_exporter": "python",
   "pygments_lexer": "ipython3",
   "version": "3.12.10"
  }
 },
 "nbformat": 4,
 "nbformat_minor": 5
}
